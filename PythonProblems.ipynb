{
 "cells": [
  {
   "cell_type": "code",
   "execution_count": 6,
   "metadata": {},
   "outputs": [
    {
     "name": "stdout",
     "output_type": "stream",
     "text": [
      "[2, 2, 3, 3, 2, 4, 4, 4, 4, 4]\n",
      "[2, 2, 3, 3, 2, 4, 4, 4, 4, 4, 2]\n"
     ]
    },
    {
     "ename": "TypeError",
     "evalue": "isinstance() arg 2 must be a type or tuple of types",
     "output_type": "error",
     "traceback": [
      "\u001b[0;31m---------------------------------------------------------------------------\u001b[0m",
      "\u001b[0;31mTypeError\u001b[0m                                 Traceback (most recent call last)",
      "\u001b[0;32m/var/folders/4n/jdf1sb5d5rv2kw8_v31pycbc0000gn/T/ipykernel_4059/267125080.py\u001b[0m in \u001b[0;36m<module>\u001b[0;34m\u001b[0m\n\u001b[1;32m     43\u001b[0m \u001b[0;32mfor\u001b[0m \u001b[0mi\u001b[0m \u001b[0;32min\u001b[0m \u001b[0mrange\u001b[0m\u001b[0;34m(\u001b[0m\u001b[0;36m1\u001b[0m\u001b[0;34m,\u001b[0m\u001b[0mlen\u001b[0m\u001b[0;34m(\u001b[0m\u001b[0mtasks\u001b[0m\u001b[0;34m)\u001b[0m\u001b[0;34m-\u001b[0m\u001b[0;36m1\u001b[0m\u001b[0;34m)\u001b[0m\u001b[0;34m:\u001b[0m\u001b[0;34m\u001b[0m\u001b[0;34m\u001b[0m\u001b[0m\n\u001b[1;32m     44\u001b[0m     \u001b[0mlod\u001b[0m \u001b[0;34m=\u001b[0m \u001b[0mtasks\u001b[0m\u001b[0;34m[\u001b[0m\u001b[0mi\u001b[0m\u001b[0;34m]\u001b[0m\u001b[0;34m\u001b[0m\u001b[0;34m\u001b[0m\u001b[0m\n\u001b[0;32m---> 45\u001b[0;31m     \u001b[0;32mif\u001b[0m \u001b[0misinstance\u001b[0m\u001b[0;34m(\u001b[0m\u001b[0mlod\u001b[0m\u001b[0;34m,\u001b[0m\u001b[0mtasks\u001b[0m\u001b[0;34m)\u001b[0m\u001b[0;34m:\u001b[0m\u001b[0;34m\u001b[0m\u001b[0;34m\u001b[0m\u001b[0m\n\u001b[0m\u001b[1;32m     46\u001b[0m         \u001b[0mprint\u001b[0m\u001b[0;34m(\u001b[0m\u001b[0mlist\u001b[0m\u001b[0;34m)\u001b[0m\u001b[0;34m\u001b[0m\u001b[0;34m\u001b[0m\u001b[0m\n\u001b[1;32m     47\u001b[0m     \u001b[0;32melse\u001b[0m\u001b[0;34m:\u001b[0m\u001b[0;34m\u001b[0m\u001b[0;34m\u001b[0m\u001b[0m\n",
      "\u001b[0;31mTypeError\u001b[0m: isinstance() arg 2 must be a type or tuple of types"
     ]
    }
   ],
   "source": [
    "####~2244~####\n",
    "\"\"\"Input tasks\n",
    "tasks[i] = level of difficulty (lod), \n",
    "can only complete 2 or 3 (NOT 1) tasks in one round, how many rounds are required\n",
    "\n",
    "tasks <= 10^9, tasks.length <= 10^5\n",
    "\n",
    "\n",
    "Notes:\n",
    "Only will fail if one of that lod\n",
    "not quite there, having issues with iterating over list (need to check if value already in list)(can just iterate over it but im lazy rn)\n",
    "\n",
    "\"\"\"\n",
    "\n",
    "#Input\n",
    "tasks = [2,2,3,3,2,4,4,4,4,4]\n",
    "\n",
    "print(tasks)\n",
    "\n",
    "#tasks = str(tasks)\n",
    "list = tasks\n",
    "lod = 0\n",
    "count = 0\n",
    "rounds = 0\n",
    "add_ = 0\n",
    "\n",
    "\n",
    "lod = tasks[0]\n",
    "for x in range(1,(len(tasks)-1)):\n",
    "    if lod == tasks[x]:\n",
    "        count += 1\n",
    "\n",
    "if count == 1:\n",
    "    print(-1)\n",
    "else:\n",
    "    add_ = (count - (count % 3))/3\n",
    "    if (count % 3) != 0:\n",
    "        add_+= 1 \n",
    "    rounds+= add_\n",
    "\n",
    "list.append(lod)\n",
    "print(list)\n",
    "\n",
    "for i in range(1,len(tasks)-1):\n",
    "    lod = tasks[i]\n",
    "    if isinstance(lod,tasks):\n",
    "        print(list)\n",
    "    else:\n",
    "        list = lod\n",
    "        count += 1\n",
    "\n",
    "        for x in range(i+1,(len(tasks)-1)):\n",
    "            if lod == tasks[x]:\n",
    "                count += 1\n",
    "\n",
    "        if count == 1:\n",
    "            print(-1)\n",
    "            break\n",
    "        else:\n",
    "            add_ = (count - (count % 3))/3\n",
    "\n",
    "            if (count % 3) != 0:\n",
    "                add_+= 1 \n",
    "\n",
    "\n",
    "            rounds+= add_\n",
    "\n",
    "    \n",
    "            \n",
    "\n",
    "print(rounds)\n",
    "\n"
   ]
  },
  {
   "cell_type": "code",
   "execution_count": 1,
   "metadata": {},
   "outputs": [],
   "source": [
    "####~9~####\n",
    "\"\"\"Input num\n",
    "Check if input is a palindrome number\n",
    "ex) -123, return false\n",
    "121, return true\n",
    "\n",
    "\n",
    "Notes:\n",
    ":D Working\n",
    "\n",
    "\"\"\"\n",
    "\n",
    "#Input\n",
    "num = 121\n",
    "\n",
    "#from z3 import *\n",
    "num_ = str(num)\n",
    "\n",
    "start = 0\n",
    "end = len(num_)-1\n",
    "\n",
    "half = int(len(num_)/2)\n",
    "\n",
    "while start != half:\n",
    "    if num_[start] != num_[end]:\n",
    "        print(\"false\", start)\n",
    "        break\n",
    "    else:\n",
    "        start+=1\n",
    "        end-=1\n",
    "\n"
   ]
  }
 ],
 "metadata": {
  "interpreter": {
   "hash": "fe71c28db27519f1ee06a22381a76f777a814165a158d0f56c411b1ad3c16e25"
  },
  "kernelspec": {
   "display_name": "Python 3.9.7 ('base')",
   "language": "python",
   "name": "python3"
  },
  "language_info": {
   "codemirror_mode": {
    "name": "ipython",
    "version": 3
   },
   "file_extension": ".py",
   "mimetype": "text/x-python",
   "name": "python",
   "nbconvert_exporter": "python",
   "pygments_lexer": "ipython3",
   "version": "3.9.7"
  },
  "orig_nbformat": 4
 },
 "nbformat": 4,
 "nbformat_minor": 2
}
